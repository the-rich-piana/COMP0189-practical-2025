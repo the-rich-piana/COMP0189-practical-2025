{
 "cells": [
  {
   "cell_type": "markdown",
   "metadata": {
    "id": "Uyu0ma5quxjS"
   },
   "source": [
    "# COMP0189: Applied Artificial Intelligence\n",
    "\n",
    "## Week 4 (Linear models, Trees and Ensemble Models )\n",
    "\n",
    "## 🎯 Learning goals    \n",
    "\n",
    "1. Apply various regularized linear models to a tabular data and optimize their regularization parameter in a proper way\n",
    "\n",
    "2. Learn how to visualize coefficient of linear models\n",
    "\n",
    "3. Apply various tree based and emsemble models to a tabular data\n",
    "\n",
    "4. Learn how to visualize feature importane for tree based models\n",
    "\n",
    "5. Learn how to plot data on a map\n",
    "\n",
    "### Dataset \n",
    "\n",
    "We will use the \"Womxn in Big Data South Africa: Female-Headed Households in South Africa\" challenge from the Zindi platform. The dataset has been developed using the data from the 2011 census in South Africa by aggregating different key indicators that are relevant in the context of the proposed task and that intuitively should have some connections - e.g. home type, school attendance, access to piped water, language. \n",
    "\n",
    "Since South Africa comprises over 4 thousand wards (i.e. geopolitical subdivisions of the country), each feature in the dataset represent ward level information, such as the prevalence of different types of dwellings in a certain ward, the prevalence of different population groups in a certain ward, or the prevalence of women-headed households with an annual income lower than $2.3K in a specific ward.\n",
    "\n",
    "The challange associated with this dataset consists of developing a Machine Learning model that using the dataset features can predict the percentage of female-headed households in a ward that have an annual income lower than approximately 2.3 thousand dollars at the time the data was collected (https://zindi.africa/competitions/womxn-in-big-data-south-africa-female-headed-households-in-south-africa). \n",
    "\n",
    "### Acknowledgements\n",
    "- https://scikit-learn.org/stable/\n",
    "- https://zindi.africa/competitions/womxn-in-big-data-south-africa-female-headed-households-in-south-africa \n",
    "- We thank Irina Gravila from the 2024 MSc in AI for Sustainable Development cohort for providing information about the dataset and the session/code for vizualizing the data on a map\n"
   ]
  },
  {
   "cell_type": "markdown",
   "metadata": {},
   "source": [
    "## Dataset columns descriptions (given in the [Zindi competition](https://zindi.africa/competitions/womxn-in-big-data-south-africa-female-headed-households-in-south-africa))\n",
    "\n",
    "| Column     | Description                                                                                                                                 |\n",
    "|:-----------|:--------------------------------------------------------------------------------------------------------------------------------------------|\n",
    "| dw_00      | Percentage of dwellings of type: House or brick/concrete block structure on a separate stand or yard or on a farm                           |\n",
    "| dw_01      | Percentage of dwellings of type: Traditional dwelling/hut/structure made of traditional materials                                           |\n",
    "| dw_02      | Percentage of dwellings of type: Flat or apartment in a block of flats                                                                      |\n",
    "| dw_03      | Percentage of dwellings of type: Cluster house in complex                                                                                   |\n",
    "| dw_04      | Percentage of dwellings of type: Townhouse (semi-detached house in a complex)                                                               |\n",
    "| dw_05      | Percentage of dwellings of type: Semi-detached house                                                                                        |\n",
    "| dw_06      | Percentage of dwellings of type: House/flat/room in backyard                                                                                |\n",
    "| dw_07      | Percentage of dwellings of type: Informal dwelling (shack in backyard)                                                                      |\n",
    "| dw_08      | Percentage of dwellings of type: Informal dwelling (shack not in backyard e.g. in an informal/squatter settlement or on a farm)             |\n",
    "| dw_09      | Percentage of dwellings of type: Room/flatlet on a property or larger dwelling/servants quarters/granny flat                                |\n",
    "| dw_10      | Percentage of dwellings of type: Caravan/tent                                                                                               |\n",
    "| dw_11      | Percentage of dwellings of type: Other                                                                                                      |\n",
    "| dw_12      | Percentage of dwellings of type: Unspecified                                                                                                |\n",
    "| dw_13      | Percentage of dwellings of type: Not applicable                                                                                             |\n",
    "| psa_00     | Percentage listing present school attendance as:  Yes                                                                                       |\n",
    "| psa_01     | Percentage listing present school attendance as:  No                                                                                        |\n",
    "| psa_02     | Percentage listing present school attendance as:  Do not know                                                                               |\n",
    "| psa_03     | Percentage listing present school attendance as:  Unspecified                                                                               |\n",
    "| psa_04     | Percentage listing present school attendance as:  Not applicable                                                                            |\n",
    "| stv_00     | Percentage of households with Satellite TV:  Yes                                                                                            |\n",
    "| stv_01     | Percentage of households with Satellite TV:  No                                                                                             |\n",
    "| car_00     | Percentage of households with a car:  Yes                                                                                                   |\n",
    "| car_01     | Percentage of households with a car:  No                                                                                                    |\n",
    "| lln_00     | Percentage listing landline ownership as:  Yes                                                                                              |\n",
    "| lln_01     | Percentage listing landline ownership as:  No                                                                                               |\n",
    "| lan_00     | Percentage listing language as:  Afrikaans                                                                                                  |\n",
    "| lan_01     | Percentage listing language as:  English                                                                                                    |\n",
    "| lan_02     | Percentage listing language as:  IsiNdebele                                                                                                 |\n",
    "| lan_03     | Percentage listing language as:  IsiXhosa                                                                                                   |\n",
    "| lan_04     | Percentage listing language as:  IsiZulu                                                                                                    |\n",
    "| lan_05     | Percentage listing language as:  Sepedi                                                                                                     |\n",
    "| lan_06     | Percentage listing language as:  Sesotho                                                                                                    |\n",
    "| lan_07     | Percentage listing language as:  Setswana                                                                                                   |\n",
    "| lan_08     | Percentage listing language as:  Sign language                                                                                              |\n",
    "| lan_09     | Percentage listing language as:  SiSwati                                                                                                    |\n",
    "| lan_10     | Percentage listing language as:  Tshivenda                                                                                                  |\n",
    "| lan_11     | Percentage listing language as:  Xitsonga                                                                                                   |\n",
    "| lan_12     | Percentage listing language as:  Other                                                                                                      |\n",
    "| lan_13     | Percentage listing language as:  Unspecified                                                                                                |\n",
    "| lan_14     | Percentage listing language as:  Not applicable                                                                                             |\n",
    "| pg_00      | Percentage in population group:  Black African                                                                                              |\n",
    "| pg_01      | Percentage in population group:  Coloured                                                                                                   |\n",
    "| pg_02      | Percentage in population group:  Indian or Asian                                                                                            |\n",
    "| pg_03      | Percentage in population group:  White                                                                                                      |\n",
    "| pg_04      | Percentage in population group:  Other                                                                                                      |\n",
    "| lgt_00     | Percentage using electricity for lighting                                                                                                   |\n",
    "| pw_00      | Percentage with piped water access:  Piped (tap) water inside dwelling/institution                                                          |\n",
    "| pw_01      | Percentage with piped water access:  Piped (tap) water inside yard                                                                          |\n",
    "| pw_02      | Percentage with piped water access:  Piped (tap) water on community stand: distance less than 200m from dwelling/institution                |\n",
    "| pw_03      | Percentage with piped water access:  Piped (tap) water on community stand: distance between 200m and 500m from dwelling/institution         |\n",
    "| pw_04      | Percentage with piped water access:  Piped (tap) water on community stand: distance between 500m and 1000m (1km) from dwelling /institution |\n",
    "| pw_05      | Percentage with piped water access:  Piped (tap) water on community stand: distance greater than 1000m (1km) from dwelling/institution      |\n",
    "| pw_06      | Percentage with piped water access:  No access to piped (tap) water                                                                         |\n",
    "| pw_07      | Percentage with piped water access:  Unspecified                                                                                            |\n",
    "| pw_08      | Percentage with piped water access:  Not applicable                                                                                         |\n",
    "| ADM4_PCODE | Code for linking row to ward in the wards shapefile                                                                                         |\n",
    "| lat        | Lattitude of the center point of the ward                                                                                                   |\n",
    "| lon        | Longitude of the center point of the ward                                                                                                   |\n",
    "| NL         | Nightlights value for the area around (lat, lon)                                                                                            |\n",
    "| target     | Percentage of women head households with income under R19.6k out of total number of households          "
   ]
  },
  {
   "cell_type": "code",
   "execution_count": 1,
   "metadata": {},
   "outputs": [
    {
     "name": "stdout",
     "output_type": "stream",
     "text": [
      "Requirement already satisfied: scikit-learn==1.6.1 in /scratch0/NOT_BACKED_UP/ccampo/repos/COMP0189-practical-2025/.venv/lib/python3.9/site-packages (1.6.1)\n",
      "Requirement already satisfied: matplotlib in /scratch0/NOT_BACKED_UP/ccampo/repos/COMP0189-practical-2025/.venv/lib/python3.9/site-packages (3.9.4)\n",
      "Requirement already satisfied: seaborn in /scratch0/NOT_BACKED_UP/ccampo/repos/COMP0189-practical-2025/.venv/lib/python3.9/site-packages (0.13.2)\n",
      "Requirement already satisfied: pandas in /scratch0/NOT_BACKED_UP/ccampo/repos/COMP0189-practical-2025/.venv/lib/python3.9/site-packages (2.2.3)\n",
      "Requirement already satisfied: folium in /scratch0/NOT_BACKED_UP/ccampo/repos/COMP0189-practical-2025/.venv/lib/python3.9/site-packages (0.19.4)\n",
      "Requirement already satisfied: geojson in /scratch0/NOT_BACKED_UP/ccampo/repos/COMP0189-practical-2025/.venv/lib/python3.9/site-packages (3.2.0)\n",
      "Requirement already satisfied: numpy>=1.19.5 in /scratch0/NOT_BACKED_UP/ccampo/repos/COMP0189-practical-2025/.venv/lib/python3.9/site-packages (from scikit-learn==1.6.1) (2.0.2)\n",
      "Requirement already satisfied: scipy>=1.6.0 in /scratch0/NOT_BACKED_UP/ccampo/repos/COMP0189-practical-2025/.venv/lib/python3.9/site-packages (from scikit-learn==1.6.1) (1.13.1)\n",
      "Requirement already satisfied: joblib>=1.2.0 in /scratch0/NOT_BACKED_UP/ccampo/repos/COMP0189-practical-2025/.venv/lib/python3.9/site-packages (from scikit-learn==1.6.1) (1.4.2)\n",
      "Requirement already satisfied: threadpoolctl>=3.1.0 in /scratch0/NOT_BACKED_UP/ccampo/repos/COMP0189-practical-2025/.venv/lib/python3.9/site-packages (from scikit-learn==1.6.1) (3.5.0)\n",
      "Requirement already satisfied: contourpy>=1.0.1 in /scratch0/NOT_BACKED_UP/ccampo/repos/COMP0189-practical-2025/.venv/lib/python3.9/site-packages (from matplotlib) (1.3.0)\n",
      "Requirement already satisfied: cycler>=0.10 in /scratch0/NOT_BACKED_UP/ccampo/repos/COMP0189-practical-2025/.venv/lib/python3.9/site-packages (from matplotlib) (0.12.1)\n",
      "Requirement already satisfied: fonttools>=4.22.0 in /scratch0/NOT_BACKED_UP/ccampo/repos/COMP0189-practical-2025/.venv/lib/python3.9/site-packages (from matplotlib) (4.55.8)\n",
      "Requirement already satisfied: kiwisolver>=1.3.1 in /scratch0/NOT_BACKED_UP/ccampo/repos/COMP0189-practical-2025/.venv/lib/python3.9/site-packages (from matplotlib) (1.4.7)\n",
      "Requirement already satisfied: packaging>=20.0 in /scratch0/NOT_BACKED_UP/ccampo/repos/COMP0189-practical-2025/.venv/lib/python3.9/site-packages (from matplotlib) (24.2)\n",
      "Requirement already satisfied: pillow>=8 in /scratch0/NOT_BACKED_UP/ccampo/repos/COMP0189-practical-2025/.venv/lib/python3.9/site-packages (from matplotlib) (11.1.0)\n",
      "Requirement already satisfied: pyparsing>=2.3.1 in /scratch0/NOT_BACKED_UP/ccampo/repos/COMP0189-practical-2025/.venv/lib/python3.9/site-packages (from matplotlib) (3.2.1)\n",
      "Requirement already satisfied: python-dateutil>=2.7 in /scratch0/NOT_BACKED_UP/ccampo/repos/COMP0189-practical-2025/.venv/lib/python3.9/site-packages (from matplotlib) (2.9.0.post0)\n",
      "Requirement already satisfied: importlib-resources>=3.2.0 in /scratch0/NOT_BACKED_UP/ccampo/repos/COMP0189-practical-2025/.venv/lib/python3.9/site-packages (from matplotlib) (6.5.2)\n",
      "Requirement already satisfied: pytz>=2020.1 in /scratch0/NOT_BACKED_UP/ccampo/repos/COMP0189-practical-2025/.venv/lib/python3.9/site-packages (from pandas) (2025.1)\n",
      "Requirement already satisfied: tzdata>=2022.7 in /scratch0/NOT_BACKED_UP/ccampo/repos/COMP0189-practical-2025/.venv/lib/python3.9/site-packages (from pandas) (2025.1)\n",
      "Requirement already satisfied: branca>=0.6.0 in /scratch0/NOT_BACKED_UP/ccampo/repos/COMP0189-practical-2025/.venv/lib/python3.9/site-packages (from folium) (0.8.1)\n",
      "Requirement already satisfied: jinja2>=2.9 in /scratch0/NOT_BACKED_UP/ccampo/repos/COMP0189-practical-2025/.venv/lib/python3.9/site-packages (from folium) (3.1.5)\n",
      "Requirement already satisfied: requests in /scratch0/NOT_BACKED_UP/ccampo/repos/COMP0189-practical-2025/.venv/lib/python3.9/site-packages (from folium) (2.32.3)\n",
      "Requirement already satisfied: xyzservices in /scratch0/NOT_BACKED_UP/ccampo/repos/COMP0189-practical-2025/.venv/lib/python3.9/site-packages (from folium) (2025.1.0)\n",
      "Requirement already satisfied: zipp>=3.1.0 in /scratch0/NOT_BACKED_UP/ccampo/repos/COMP0189-practical-2025/.venv/lib/python3.9/site-packages (from importlib-resources>=3.2.0->matplotlib) (3.21.0)\n",
      "Requirement already satisfied: MarkupSafe>=2.0 in /scratch0/NOT_BACKED_UP/ccampo/repos/COMP0189-practical-2025/.venv/lib/python3.9/site-packages (from jinja2>=2.9->folium) (3.0.2)\n",
      "Requirement already satisfied: six>=1.5 in /scratch0/NOT_BACKED_UP/ccampo/repos/COMP0189-practical-2025/.venv/lib/python3.9/site-packages (from python-dateutil>=2.7->matplotlib) (1.17.0)\n",
      "Requirement already satisfied: charset-normalizer<4,>=2 in /scratch0/NOT_BACKED_UP/ccampo/repos/COMP0189-practical-2025/.venv/lib/python3.9/site-packages (from requests->folium) (3.4.1)\n",
      "Requirement already satisfied: idna<4,>=2.5 in /scratch0/NOT_BACKED_UP/ccampo/repos/COMP0189-practical-2025/.venv/lib/python3.9/site-packages (from requests->folium) (3.10)\n",
      "Requirement already satisfied: urllib3<3,>=1.21.1 in /scratch0/NOT_BACKED_UP/ccampo/repos/COMP0189-practical-2025/.venv/lib/python3.9/site-packages (from requests->folium) (2.3.0)\n",
      "Requirement already satisfied: certifi>=2017.4.17 in /scratch0/NOT_BACKED_UP/ccampo/repos/COMP0189-practical-2025/.venv/lib/python3.9/site-packages (from requests->folium) (2025.1.31)\n",
      "Note: you may need to restart the kernel to use updated packages.\n"
     ]
    }
   ],
   "source": [
    "%pip install scikit-learn==1.6.1 matplotlib seaborn pandas folium geojson"
   ]
  },
  {
   "cell_type": "markdown",
   "metadata": {},
   "source": [
    "## Exploratory data analysis\n",
    "\n",
    "As usual, we start by taking at look at the dataset. The dataset description in `variable_descriptions.csv` can be a starting point for this analysis."
   ]
  },
  {
   "cell_type": "markdown",
   "metadata": {},
   "source": [
    "### Load data\n",
    "\n",
    "First, we need to load the data. We know from the dataset description that most features will be floating-point numbers with only two string identifiers, so we set the data types accordingly."
   ]
  },
  {
   "cell_type": "code",
   "execution_count": null,
   "metadata": {
    "tags": []
   },
   "outputs": [],
   "source": [
    "import numpy as np\n",
    "import pandas as pd\n",
    "import matplotlib.pyplot as plt\n",
    "from collections import defaultdict\n",
    "from sklearn.model_selection import train_test_split\n",
    "import numpy.typing as npt\n",
    "import random\n",
    "\n",
    "RANDOM_STATE = 0\n",
    "random.seed(RANDOM_STATE)\n",
    "\n",
    "HUMAN_READABLE_FEATURES = [\n",
    "    \"ward\",\n",
    "    \"total_households\",\n",
    "    \"total_individuals\",\n",
    "    \"target\",\n",
    "    \"dwelling_brick_concrete\",\n",
    "    \"dwelling_traditional\",\n",
    "    \"dwelling_flat\",\n",
    "    \"dwelling_cluster_complex\",\n",
    "    \"dwelling_semidetached_complex\",\n",
    "    \"dwelling_semidetached\",\n",
    "    \"dwelling_house_backyard\",\n",
    "    \"dwelling_shack_backyard\",\n",
    "    \"dwelling_shack_not_backyard\",\n",
    "    \"dwelling_room\",\n",
    "    \"dwelling_tent_caravan\",\n",
    "    \"dwelling_other\",\n",
    "    \"dwelling_unspecified\",\n",
    "    \"dwelling_na\",\n",
    "    \"school_yes\",\n",
    "    \"school_no\",\n",
    "    \"school_unknown\",\n",
    "    \"school_unspecified\",\n",
    "    \"school_na\",\n",
    "    \"satellite_tv_yes\",\n",
    "    \"satellite_tv_no\",\n",
    "    \"car_yes\",\n",
    "    \"car_no\",\n",
    "    \"landline_yes\",\n",
    "    \"landline_no\",\n",
    "    \"language_afrikaans\",\n",
    "    \"language_english\",\n",
    "    \"language_isindebele\",\n",
    "    \"language_isixhosa\",\n",
    "    \"language_isizulu\",\n",
    "    \"language_sepedi\",\n",
    "    \"language_sesotho\",\n",
    "    \"language_setswana\",\n",
    "    \"language_sign\",\n",
    "    \"language_siswati\",\n",
    "    \"language_tshivenda\",\n",
    "    \"language_xitsonga\",\n",
    "    \"language_other\",\n",
    "    \"language_unspecified\",\n",
    "    \"language_na\",\n",
    "    \"ethnicity_black_african\",\n",
    "    \"ethnicity_coloured\",\n",
    "    \"ethnicity_asian\",\n",
    "    \"ethnicity_white\",\n",
    "    \"ethnicity_other\",\n",
    "    \"electricity_yes\",\n",
    "    \"piped_water_in_dwelling\",\n",
    "    \"piped_water_in_yard\",\n",
    "    \"piped_water_community_0_200_meters\",\n",
    "    \"piped_water_community_200_500_meters\",\n",
    "    \"piped_water_community_500_1000_meters\",\n",
    "    \"piped_water_community_no\",\n",
    "    \"piped_water_community_unspecified\",\n",
    "    \"piped_water_community_na\",\n",
    "    \"piped_water_community_>1000_meters\",\n",
    "    \"ADM4_PCODE\",\n",
    "    \"latitude\",\n",
    "    \"longitude\",\n",
    "    \"nightlights\"\n",
    "]\n",
    "\n",
    "def load_dataset(path: str) -> pd.DataFrame:\n",
    "    dtypes: dict = defaultdict(pd.Float32Dtype)\n",
    "    dtypes[\"ADM4_PCODE\"] = pd.StringDtype\n",
    "    dtypes[\"ward\"] = pd.StringDtype\n",
    "\n",
    "    return pd.read_csv(path, dtype=dtypes, names=HUMAN_READABLE_FEATURES, header=0)\n",
    "\n",
    "def split_data(df: pd.DataFrame) -> tuple[pd.DataFrame, pd.DataFrame, npt.NDArray[np.float32], npt.NDArray[np.float32]]:\n",
    "    X = df.drop(columns=[\"target\"])\n",
    "    y = df[\"target\"].to_numpy(dtype=np.float32)\n",
    "\n",
    "    return train_test_split(X, y, test_size=0.2, random_state=RANDOM_STATE)\n",
    "\n",
    "df_all = load_dataset(\"Female_headed_household_data/data.csv\")\n",
    "X_train, X_test, y_train, y_test = split_data(df_all)\n",
    "\n",
    "X_train"
   ]
  },
  {
   "cell_type": "markdown",
   "metadata": {},
   "source": [
    "As can be observed from the preview, the dataset is mostly numerical. The only categorical feature is ADM4_CODE, which is unique for each feature, and can be used to extract additional data for each ward. As this dataset already has a large number of features the column will further be dropped."
   ]
  },
  {
   "cell_type": "markdown",
   "metadata": {},
   "source": [
    "**Vizualizing the data on a map**\n",
    "\n",
    "Since the dataset provides the latitude and longitude for each ward, a visualization of the spread of the data points in South Africa could reveal some patterns. The following code cell prints the map of South Africa and plots points for each ward centroid described by the latitude and longitude features. \n",
    "\n",
    "As can be observed, the points on the map have different colours, as they have been colour-coded based on the target value in the dataset:\n",
    "- if the target value is lower than the 25th percentile of the target, the point are plotted in green \n",
    "- If the target value is between the 25th and the 50th percentile, the point are plotted in blue\n",
    "- If the target is between the 50th and the 75th percentile, the point are plotted orange\n",
    "- Finally, if the target value is greater than the 75th percentile, the point are plotted in red. \n",
    "\n",
    "Colour coding the points based on their targets enables investigating if there is a spatial  relationships between different data points and their target values.\n",
    "\n",
    "**Insights:** As can be observed in the map below, the data points with the largest target values (red and orange dots) tend to be clustered around the eastern side of the South African shore and the far northeastern side of the country. On the other hand, the data points which have the smallest target values (blue and green dots) tend to be clustered around the city of Johannesburg in South Africa, with some points also present along the shore. Thus, this map indicates that the latitude and longitude can be relevant features in the dataset which, when combined, can have a correlation to the target and have the potential to help models in their predictions.\n"
   ]
  },
  {
   "cell_type": "code",
   "execution_count": null,
   "metadata": {},
   "outputs": [],
   "source": [
    "import folium\n",
    "import geojson\n",
    "\n",
    "# Get centre of map\n",
    "locations = list(zip(X_train.latitude, X_train.longitude, y_train))\n",
    "average_lat = sum(lat for lat, lon, target in locations) / len(locations)\n",
    "average_lon = sum(lon for lat, lon, target in locations) / len(locations)\n",
    "\n",
    "# Target quantiles\n",
    "target_quantiles = [np.quantile(y_train, 0.25), \n",
    "                    np.quantile(y_train, 0.50), \n",
    "                    np.quantile(y_train, 0.55)]\n",
    "\n",
    "# Add map\n",
    "mymap = folium.Map(location=[average_lat, average_lon], zoom_start=6)\n",
    "\n",
    "# Add markers for each location\n",
    "for lat, lon, target in locations:\n",
    "    if target < target_quantiles[0]:\n",
    "        folium.CircleMarker(location=[lat, lon], radius=0.5, \n",
    "                            color='green', opacity=.6).add_to(mymap)\n",
    "    elif target< target_quantiles[1]:\n",
    "        folium.CircleMarker(location=[lat, lon], radius=0.5,\n",
    "                             color='blue', opacity=.6).add_to(mymap)\n",
    "    elif target < target_quantiles[2]:\n",
    "        folium.CircleMarker(location=[lat, lon], radius=0.5, \n",
    "                            color='orange', opacity=.6).add_to(mymap)\n",
    "    else:\n",
    "        folium.CircleMarker(location=[lat, lon], radius=0.5, \n",
    "                            color='red', opacity=.6).add_to(mymap)\n",
    "\n",
    "# Get South Africa geometry\n",
    "with open('./Female_headed_household_data/countries.geojson') as f:\n",
    "    gj = geojson.load(f)\n",
    "south_africa_geometry = next(x for x in gj['features'] \n",
    "                             if x['properties']['ISO_A3'] == 'ZAF')\n",
    "\n",
    "# Add South Africa delimitation\n",
    "folium.GeoJson(south_africa_geometry, style_function=lambda feature: {\n",
    "        \"fillColor\": \"#ffff00\",\n",
    "        \"color\": \"black\",\n",
    "        \"weight\": 1.5}).add_to(mymap)\n",
    "\n",
    "mymap"
   ]
  },
  {
   "cell_type": "markdown",
   "metadata": {},
   "source": [
    "### Visualise distributions\n",
    "\n",
    "We can now plot some graphs showing the data distribution for all features in the dataset.\n",
    "\n",
    "Note that there are quite a few features in the dataset: you may want to split them in different groups when plotting their distributions."
   ]
  },
  {
   "cell_type": "code",
   "execution_count": null,
   "metadata": {},
   "outputs": [],
   "source": []
  },
  {
   "cell_type": "markdown",
   "metadata": {},
   "source": [
    "### Total percentages\n",
    "\n",
    "Most of the dataset features are percentages, grouped into several logical categories. We can plot which choice was most popular within each category."
   ]
  },
  {
   "cell_type": "code",
   "execution_count": null,
   "metadata": {},
   "outputs": [],
   "source": [
    "from matplotlib.axes import Axes\n",
    "\n",
    "PERCENTAGE_FEATURE_PREFIXES = []\n",
    "\n",
    "def plot_total_percentages(df: pd.DataFrame, prefix: str, ax: Axes):\n",
    "    \"\"\"\n",
    "    Plots the total percentage across all wards for a given group of responses.\n",
    "    The data is plotted as a bar graph in the given axes\n",
    "    \"\"\"\n",
    "    tots = {}\n",
    "    for column in [c for c in df.columns if prefix in c]:\n",
    "        simplified_name = column.replace(prefix, \"\")\n",
    "        tots[simplified_name] = df[column].sum() / len(df)\n",
    "\n",
    "    ax.set_title(prefix)\n",
    "    ax.set_xlim(0, 1)\n",
    "    ax.barh(tots.keys(), tots.values())\n",
    "\n"
   ]
  },
  {
   "cell_type": "markdown",
   "metadata": {},
   "source": [
    "### Binary features\n",
    "From the distribution plots, you may have noticed that some features are the inverse of each other: they are both percentages where one feature shows the proportion of \"yes\" and one shows the proportion of \"no\".\n",
    "\n",
    "We should check if the two outcomes sum up to 1: if so, one of the columns is redundant as it conveys no additional information. We can drop it to optimise the model performance."
   ]
  },
  {
   "cell_type": "code",
   "execution_count": null,
   "metadata": {},
   "outputs": [],
   "source": []
  },
  {
   "cell_type": "markdown",
   "metadata": {},
   "source": [
    "### Constant features"
   ]
  },
  {
   "cell_type": "markdown",
   "metadata": {},
   "source": [
    "Looking at the distribution plots, some features look like they are always 0. If so, these features are constant and contribute nothing to training: they can be removed to improve performance.\n",
    "\n",
    "Write a small check to list which features are always 0 (or, better yet, which features have a constant value over the whole training set)."
   ]
  },
  {
   "cell_type": "code",
   "execution_count": null,
   "metadata": {},
   "outputs": [],
   "source": []
  },
  {
   "cell_type": "markdown",
   "metadata": {},
   "source": [
    "### Check correlation\n",
    "\n",
    "Like we did in the week 1 lab, we can plot a matrix showing the correlation of all features with each other. This plot will also show the issues we have been seen so far."
   ]
  },
  {
   "cell_type": "code",
   "execution_count": null,
   "metadata": {},
   "outputs": [],
   "source": []
  },
  {
   "cell_type": "markdown",
   "metadata": {},
   "source": [
    "## Preprocess\n",
    "\n",
    "Now that we've visualised the distributions and uncovered some issues with the data, write a preprocessing pipeline to prepare the data before training.\n",
    "\n",
    "Does it make sense to scale all numerical features in this dataset?"
   ]
  },
  {
   "cell_type": "code",
   "execution_count": null,
   "metadata": {},
   "outputs": [],
   "source": [
    "from sklearn.compose import ColumnTransformer\n",
    "\n"
   ]
  },
  {
   "cell_type": "markdown",
   "metadata": {
    "id": "6XnBhXmluxjZ"
   },
   "source": [
    "## Task 1: Create a pipeline for hyper-parameter tuning and model comparison"
   ]
  },
  {
   "cell_type": "markdown",
   "metadata": {
    "id": "gK9iHoktuxja"
   },
   "source": [
    "### 1.1 Train models\n",
    "Create a pipeline to optimize the regularization hyperparameters of different linear models (Ridge regression, LASSO and elastic-net) and chose the best model for predicting the target (the percentage of female-headed households in a ward that have an annual income lower than approximately 2.3 thousand dollars) based on the features provided. Print the average cross-validation performance (with the standard deviation) as well as the test performance.\n",
    "\n",
    "Linear models: https://scikit-learn.org/stable/modules/linear_model.html#"
   ]
  },
  {
   "cell_type": "code",
   "execution_count": 21,
   "metadata": {
    "id": "LI6ym6BFuxja"
   },
   "outputs": [],
   "source": [
    "from sklearn.model_selection import GridSearchCV\n",
    "from sklearn.linear_model import Ridge, Lasso, ElasticNet\n",
    "from sklearn.pipeline import Pipeline\n",
    "\n",
    "# Perform CV"
   ]
  },
  {
   "cell_type": "code",
   "execution_count": null,
   "metadata": {},
   "outputs": [],
   "source": [
    "# Evaluate performance"
   ]
  },
  {
   "cell_type": "markdown",
   "metadata": {
    "id": "T_FLSx8Nuxjb"
   },
   "source": [
    "### 1.2 Plot model performance\n",
    "Create a plot to show the cross-validation performance of the different models during hyper-parameter optimization (i.e. the figure should show for each model how the performance varies for the different hyper-parameter values)"
   ]
  },
  {
   "cell_type": "code",
   "execution_count": null,
   "metadata": {
    "id": "c1IHtU9buxjc"
   },
   "outputs": [],
   "source": []
  },
  {
   "cell_type": "markdown",
   "metadata": {
    "id": "blbL9yRSuxjc"
   },
   "source": [
    "### 1.3 Plot model coefficients\n",
    "Create figures to show the models coefficients for model interpretation (i.e. including the feature names)."
   ]
  },
  {
   "cell_type": "code",
   "execution_count": null,
   "metadata": {
    "id": "Z5YaEySjuxj4"
   },
   "outputs": [],
   "source": []
  },
  {
   "cell_type": "markdown",
   "metadata": {
    "id": "Rf6E0ZASuxj4"
   },
   "source": [
    "### 1.4 Check model similarity\n",
    "Create a similarity matrix to show the similarity of the coefficents across the different models"
   ]
  },
  {
   "cell_type": "code",
   "execution_count": null,
   "metadata": {
    "id": "A9gRL6bRuxj5"
   },
   "outputs": [],
   "source": [
    "from sklearn.metrics.pairwise import cosine_similarity\n",
    "\n"
   ]
  },
  {
   "cell_type": "markdown",
   "metadata": {
    "id": "YNw6xH5juxj6"
   },
   "source": [
    "### Discussion: How does the performance compare across models? Are the coefficients similar across models?"
   ]
  },
  {
   "cell_type": "code",
   "execution_count": null,
   "metadata": {
    "id": "x2c8tPgTuxj7"
   },
   "outputs": [],
   "source": []
  },
  {
   "cell_type": "markdown",
   "metadata": {
    "id": "VqxwOPNMuxj8"
   },
   "source": [
    "## Task 2: Tree and ensemble models"
   ]
  },
  {
   "cell_type": "markdown",
   "metadata": {
    "id": "WbECao3Iuxj8"
   },
   "source": [
    "### 2.1 Train models\n",
    "For the same dataset compare the performance of a decision tree and ensemble methods (e.g. bagging, boosting and gradient boosting) for predicting the target (the percentage of female-headed households in a ward that have an annual income lower than approximately 2.3 thousand dollars). Compute the feature importance for the different models. Create a table/plots to show the performance of the different models.\n",
    "\n",
    "Trees: https://scikit-learn.org/stable/modules/classes.html#module-sklearn.tree  \n",
    "Ensembles: https://scikit-learn.org/stable/modules/classes.html#module-sklearn.ensemble"
   ]
  },
  {
   "cell_type": "code",
   "execution_count": null,
   "metadata": {
    "colab": {
     "base_uri": "https://localhost:8080/",
     "height": 329
    },
    "id": "ZjW2GANsuxj9",
    "outputId": "c1714867-a8e0-4321-928f-dc1a5f5ef1eb"
   },
   "outputs": [],
   "source": [
    "from sklearn.ensemble import AdaBoostRegressor, BaggingRegressor, GradientBoostingRegressor\n",
    "from sklearn.tree import DecisionTreeRegressor\n"
   ]
  },
  {
   "cell_type": "markdown",
   "metadata": {
    "id": "JIjGPRJouxj9"
   },
   "source": [
    "### 2.2 Plot feature importances\n",
    "Create figures to show the top 10 features accordingly to feature importance for the different models"
   ]
  },
  {
   "cell_type": "code",
   "execution_count": null,
   "metadata": {
    "id": "8TS4NMbXuxj-"
   },
   "outputs": [],
   "source": []
  },
  {
   "cell_type": "markdown",
   "metadata": {
    "id": "LNLVLasluxj-"
   },
   "source": [
    "**Discussion**  \n",
    "**Were the features selected similar across the different models?**"
   ]
  },
  {
   "cell_type": "markdown",
   "metadata": {
    "id": "zv6xLX7QkWdB"
   },
   "source": [
    "### 2.3 Pruning trees\n",
    "Compare two different approaches for prunning a decision tree (cost-complexity prunning and max leaves nodes) and plot the resulting trees."
   ]
  },
  {
   "cell_type": "code",
   "execution_count": null,
   "metadata": {
    "id": "8WVFpMLDkWdC"
   },
   "outputs": [],
   "source": [
    "from sklearn.tree import plot_tree\n",
    "\n"
   ]
  }
 ],
 "metadata": {
  "colab": {
   "provenance": []
  },
  "kernelspec": {
   "display_name": ".venv",
   "language": "python",
   "name": "python3"
  },
  "language_info": {
   "codemirror_mode": {
    "name": "ipython",
    "version": 3
   },
   "file_extension": ".py",
   "mimetype": "text/x-python",
   "name": "python",
   "nbconvert_exporter": "python",
   "pygments_lexer": "ipython3",
   "version": "3.9.21"
  }
 },
 "nbformat": 4,
 "nbformat_minor": 4
}
